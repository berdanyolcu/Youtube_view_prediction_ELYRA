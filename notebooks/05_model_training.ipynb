{
 "cells": [
  {
   "cell_type": "code",
   "execution_count": 1,
   "id": "b92dbc59-4714-4ab7-b0d3-b9af8224fd22",
   "metadata": {
    "execution": {
     "iopub.execute_input": "2025-05-13T23:01:52.041009Z",
     "iopub.status.busy": "2025-05-13T23:01:52.040478Z",
     "iopub.status.idle": "2025-05-13T23:02:09.829214Z",
     "shell.execute_reply": "2025-05-13T23:02:09.828681Z"
    },
    "papermill": {
     "duration": 17.79439,
     "end_time": "2025-05-13T23:02:09.830478",
     "exception": false,
     "start_time": "2025-05-13T23:01:52.036088",
     "status": "completed"
    },
    "tags": []
   },
   "outputs": [
    {
     "name": "stdout",
     "output_type": "stream",
     "text": [
      "📊 RMSE: 2549964.63\n",
      "📈 R2 Score: 0.865\n"
     ]
    },
    {
     "name": "stdout",
     "output_type": "stream",
     "text": [
      "✅ Model kaydedildi: ../models/model.pkl\n",
      "📄 Değerlendirme metrikleri kaydedildi: eval_report.json\n"
     ]
    }
   ],
   "source": [
    "# 1. Gerekli kütüphaneler\n",
    "import pandas as pd\n",
    "from sklearn.model_selection import train_test_split\n",
    "from sklearn.ensemble import RandomForestRegressor\n",
    "from sklearn.metrics import mean_squared_error, r2_score\n",
    "import joblib\n",
    "import numpy as np\n",
    "\n",
    "# 2. Veriyi yükle\n",
    "df = pd.read_csv(\"../data/features.csv\")\n",
    "\n",
    "# 3. Hedef ve özellik ayrımı\n",
    "X = df.drop(columns=[\"views\"])\n",
    "y = df[\"views\"]\n",
    "\n",
    "# 4. Eğitim/test bölmesi\n",
    "X_train, X_test, y_train, y_test = train_test_split(X, y, test_size=0.2, random_state=42)\n",
    "\n",
    "# 5. Model oluştur ve eğit\n",
    "model = RandomForestRegressor(n_estimators=100, random_state=42)\n",
    "model.fit(X_train, y_train)\n",
    "\n",
    "# 6. Tahmin ve metrikler\n",
    "y_pred = model.predict(X_test)\n",
    "rmse = np.sqrt(mean_squared_error(y_test, y_pred))\n",
    "r2 = r2_score(y_test, y_pred)\n",
    "\n",
    "print(f\"📊 RMSE: {rmse:.2f}\")\n",
    "print(f\"📈 R2 Score: {r2:.3f}\")\n",
    "\n",
    "# 7. Modeli kaydet\n",
    "import os\n",
    "import json\n",
    "os.makedirs(\"../models\", exist_ok=True)\n",
    "joblib.dump(model, \"../models/model.pkl\")\n",
    "print(\"✅ Model kaydedildi: ../models/model.pkl\")\n",
    "\n",
    "# 8. Değerlendirme skorunu JSON olarak kaydet\n",
    "eval_metrics = {\n",
    "    \"RMSE\": float(rmse),\n",
    "    \"R2_Score\": float(r2)\n",
    "}\n",
    "\n",
    "os.makedirs(\"../outputs\", exist_ok=True)\n",
    "with open(\"../outputs/eval_report.json\", \"w\") as f:\n",
    "    json.dump(eval_metrics, f, indent=4)\n",
    "\n",
    "print(\"📄 Değerlendirme metrikleri kaydedildi: eval_report.json\")\n"
   ]
  },
  {
   "cell_type": "code",
   "execution_count": null,
   "id": "8762d22e-1b91-4de3-92ab-d7e2efec8dba",
   "metadata": {
    "papermill": {
     "duration": 0.002617,
     "end_time": "2025-05-13T23:02:09.840386",
     "exception": false,
     "start_time": "2025-05-13T23:02:09.837769",
     "status": "completed"
    },
    "tags": []
   },
   "outputs": [],
   "source": []
  }
 ],
 "metadata": {
  "kernelspec": {
   "display_name": "Python 3 (ipykernel)",
   "language": "python",
   "name": "python3"
  },
  "language_info": {
   "codemirror_mode": {
    "name": "ipython",
    "version": 3
   },
   "file_extension": ".py",
   "mimetype": "text/x-python",
   "name": "python",
   "nbconvert_exporter": "python",
   "pygments_lexer": "ipython3",
   "version": "3.9.6"
  },
  "papermill": {
   "default_parameters": {},
   "duration": 18.705141,
   "end_time": "2025-05-13T23:02:10.161938",
   "environment_variables": {},
   "exception": null,
   "input_path": "/Users/berdn90s/PycharmProjects/ElyraAI/notebooks/05_model_training.ipynb",
   "output_path": "/Users/berdn90s/PycharmProjects/ElyraAI/notebooks/05_model_training.ipynb",
   "parameters": {},
   "start_time": "2025-05-13T23:01:51.456797",
   "version": "2.6.0"
  }
 },
 "nbformat": 4,
 "nbformat_minor": 5
}