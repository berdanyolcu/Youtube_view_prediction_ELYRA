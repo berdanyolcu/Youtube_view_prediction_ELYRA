{
 "cells": [
  {
   "cell_type": "code",
   "execution_count": 1,
   "id": "d64f448a-03f9-43c5-95f0-d9977b4e8bc0",
   "metadata": {
    "execution": {
     "iopub.execute_input": "2025-05-13T23:01:49.733548Z",
     "iopub.status.busy": "2025-05-13T23:01:49.732887Z",
     "iopub.status.idle": "2025-05-13T23:01:51.232021Z",
     "shell.execute_reply": "2025-05-13T23:01:51.231715Z"
    },
    "papermill": {
     "duration": 1.50782,
     "end_time": "2025-05-13T23:01:51.233047",
     "exception": false,
     "start_time": "2025-05-13T23:01:49.725227",
     "status": "completed"
    },
    "tags": []
   },
   "outputs": [
    {
     "name": "stdout",
     "output_type": "stream",
     "text": [
      "✅ EDA görselleri başarıyla oluşturuldu ve kaydedildi.\n"
     ]
    }
   ],
   "source": [
    "# 1. Gerekli kütüphaneler\n",
    "import pandas as pd\n",
    "import matplotlib.pyplot as plt\n",
    "import seaborn as sns\n",
    "import os\n",
    "\n",
    "# 2. Veriyi yükle\n",
    "df = pd.read_csv(\"../data/features.csv\")\n",
    "\n",
    "# 3. Görselleri kaydedeceğimiz klasör\n",
    "os.makedirs(\"../outputs/visuals\", exist_ok=True)\n",
    "\n",
    "# 4. Korelasyon Matrisi\n",
    "plt.figure(figsize=(10, 8))\n",
    "sns.heatmap(df.corr(numeric_only=True), annot=True, cmap=\"coolwarm\", fmt=\".2f\")\n",
    "plt.title(\"Korelasyon Matrisi\")\n",
    "plt.tight_layout()\n",
    "plt.savefig(\"../outputs/visuals/correlation_matrix.png\")\n",
    "plt.close()\n",
    "\n",
    "# 5. like_ratio Dağılımı\n",
    "plt.figure(figsize=(8, 5))\n",
    "sns.histplot(df[\"like_ratio\"], bins=30, kde=True)\n",
    "plt.title(\"Like Ratio Dağılımı\")\n",
    "plt.xlabel(\"like_ratio\")\n",
    "plt.ylabel(\"Frekans\")\n",
    "plt.tight_layout()\n",
    "plt.savefig(\"../outputs/visuals/like_ratio_dist.png\")\n",
    "plt.close()\n",
    "\n",
    "# 6. Category Code vs. Views (boxplot)\n",
    "plt.figure(figsize=(10, 6))\n",
    "sns.boxplot(x=\"category_code\", y=\"views\", data=df)\n",
    "plt.yscale(\"log\")  # çok yüksek view değerleri için daha okunabilir\n",
    "plt.title(\"Kategoriye Göre İzlenme Sayısı\")\n",
    "plt.tight_layout()\n",
    "plt.savefig(\"../outputs/visuals/views_by_category.png\")\n",
    "plt.close()\n",
    "\n",
    "print(\"✅ EDA görselleri başarıyla oluşturuldu ve kaydedildi.\")\n"
   ]
  },
  {
   "cell_type": "code",
   "execution_count": null,
   "id": "87ccc58f-37b7-4587-ab0d-c6f2fc3212a9",
   "metadata": {
    "papermill": {
     "duration": 0.000532,
     "end_time": "2025-05-13T23:01:51.234421",
     "exception": false,
     "start_time": "2025-05-13T23:01:51.233889",
     "status": "completed"
    },
    "tags": []
   },
   "outputs": [],
   "source": []
  },
  {
   "cell_type": "code",
   "execution_count": null,
   "id": "57060ada-3431-41d3-8184-c3fe29c5b5a7",
   "metadata": {
    "papermill": {
     "duration": 0.000498,
     "end_time": "2025-05-13T23:01:51.235422",
     "exception": false,
     "start_time": "2025-05-13T23:01:51.234924",
     "status": "completed"
    },
    "tags": []
   },
   "outputs": [],
   "source": []
  }
 ],
 "metadata": {
  "kernelspec": {
   "display_name": "Python 3 (ipykernel)",
   "language": "python",
   "name": "python3"
  },
  "language_info": {
   "codemirror_mode": {
    "name": "ipython",
    "version": 3
   },
   "file_extension": ".py",
   "mimetype": "text/x-python",
   "name": "python",
   "nbconvert_exporter": "python",
   "pygments_lexer": "ipython3",
   "version": "3.9.6"
  },
  "papermill": {
   "default_parameters": {},
   "duration": 2.283065,
   "end_time": "2025-05-13T23:01:51.454190",
   "environment_variables": {},
   "exception": null,
   "input_path": "/Users/berdn90s/PycharmProjects/ElyraAI/notebooks/04_eda_visualization.ipynb",
   "output_path": "/Users/berdn90s/PycharmProjects/ElyraAI/notebooks/04_eda_visualization.ipynb",
   "parameters": {},
   "start_time": "2025-05-13T23:01:49.171125",
   "version": "2.6.0"
  }
 },
 "nbformat": 4,
 "nbformat_minor": 5
}