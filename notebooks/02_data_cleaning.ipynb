{
 "cells": [
  {
   "cell_type": "code",
   "execution_count": 1,
   "id": "1ebc11de-92f8-49fe-b87a-b596822a576d",
   "metadata": {
    "execution": {
     "iopub.execute_input": "2025-05-13T23:01:45.911843Z",
     "iopub.status.busy": "2025-05-13T23:01:45.911148Z",
     "iopub.status.idle": "2025-05-13T23:01:46.877887Z",
     "shell.execute_reply": "2025-05-13T23:01:46.877579Z"
    },
    "papermill": {
     "duration": 0.985071,
     "end_time": "2025-05-13T23:01:46.878834",
     "exception": false,
     "start_time": "2025-05-13T23:01:45.893763",
     "status": "completed"
    },
    "tags": []
   },
   "outputs": [
    {
     "name": "stdout",
     "output_type": "stream",
     "text": [
      "🔎 İlk veri boyutu: (40949, 16)\n",
      "📌 Eksik değerler:\n"
     ]
    },
    {
     "data": {
      "text/plain": [
       "video_id                    0\n",
       "trending_date               0\n",
       "title                       0\n",
       "channel_title               0\n",
       "category_id                 0\n",
       "publish_time                0\n",
       "tags                        0\n",
       "views                       0\n",
       "likes                       0\n",
       "dislikes                    0\n",
       "comment_count               0\n",
       "thumbnail_link              0\n",
       "comments_disabled           0\n",
       "ratings_disabled            0\n",
       "video_error_or_removed      0\n",
       "description               570\n",
       "dtype: int64"
      ]
     },
     "metadata": {},
     "output_type": "display_data"
    },
    {
     "name": "stdout",
     "output_type": "stream",
     "text": [
      "📌 Temizlik sonrası eksik değerler:\n"
     ]
    },
    {
     "data": {
      "text/plain": [
       "trending_date             0\n",
       "title                     0\n",
       "channel_title             0\n",
       "category_id               0\n",
       "publish_time              0\n",
       "tags                      0\n",
       "views                     0\n",
       "likes                     0\n",
       "dislikes                  0\n",
       "comment_count             0\n",
       "comments_disabled         0\n",
       "ratings_disabled          0\n",
       "video_error_or_removed    0\n",
       "publish_date              0\n",
       "publish_hour              0\n",
       "dtype: int64"
      ]
     },
     "metadata": {},
     "output_type": "display_data"
    },
    {
     "name": "stdout",
     "output_type": "stream",
     "text": [
      "✅ Temizlenmiş veri başarıyla kaydedildi.\n"
     ]
    }
   ],
   "source": [
    "# 1. Gerekli kütüphaneler\n",
    "import pandas as pd\n",
    "\n",
    "# 2. Veri yükleme\n",
    "df = pd.read_csv(\"../data/raw_data.csv\")\n",
    "\n",
    "# 3. İlk boyut ve eksik veri kontrolü\n",
    "print(\"🔎 İlk veri boyutu:\", df.shape)\n",
    "print(\"📌 Eksik değerler:\")\n",
    "display(df.isnull().sum())\n",
    "\n",
    "# 4. Gereksiz sütunları at\n",
    "columns_to_drop = ['thumbnail_link', 'video_id', 'description']\n",
    "df.drop(columns=columns_to_drop, inplace=True, errors='ignore')\n",
    "\n",
    "# 5. Yayın tarihi (publish_time) düzenle\n",
    "df['publish_time'] = pd.to_datetime(df['publish_time'], errors='coerce')\n",
    "df['publish_date'] = df['publish_time'].dt.date\n",
    "df['publish_hour'] = df['publish_time'].dt.hour\n",
    "\n",
    "# 6. Tüm eksik değerleri tekrar kontrol et\n",
    "print(\"📌 Temizlik sonrası eksik değerler:\")\n",
    "display(df.isnull().sum())\n",
    "\n",
    "# 7. Temizlenmiş veriyi kaydet\n",
    "df.to_csv(\"../data/clean_data.csv\", index=False)\n",
    "print(\"✅ Temizlenmiş veri başarıyla kaydedildi.\")\n"
   ]
  },
  {
   "cell_type": "code",
   "execution_count": null,
   "id": "d5d904bb-ad27-4d35-8f4b-3e3c92005756",
   "metadata": {
    "papermill": {
     "duration": 0.000617,
     "end_time": "2025-05-13T23:01:46.880382",
     "exception": false,
     "start_time": "2025-05-13T23:01:46.879765",
     "status": "completed"
    },
    "tags": []
   },
   "outputs": [],
   "source": []
  }
 ],
 "metadata": {
  "kernelspec": {
   "display_name": "Python 3 (ipykernel)",
   "language": "python",
   "name": "python3"
  },
  "language_info": {
   "codemirror_mode": {
    "name": "ipython",
    "version": 3
   },
   "file_extension": ".py",
   "mimetype": "text/x-python",
   "name": "python",
   "nbconvert_exporter": "python",
   "pygments_lexer": "ipython3",
   "version": "3.9.6"
  },
  "papermill": {
   "default_parameters": {},
   "duration": 1.836285,
   "end_time": "2025-05-13T23:01:46.996075",
   "environment_variables": {},
   "exception": null,
   "input_path": "/Users/berdn90s/PycharmProjects/ElyraAI/notebooks/02_data_cleaning.ipynb",
   "output_path": "/Users/berdn90s/PycharmProjects/ElyraAI/notebooks/02_data_cleaning.ipynb",
   "parameters": {},
   "start_time": "2025-05-13T23:01:45.159790",
   "version": "2.6.0"
  }
 },
 "nbformat": 4,
 "nbformat_minor": 5
}