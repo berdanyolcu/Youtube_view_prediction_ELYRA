# 1. Gerekli kütüphaneler
import pandas as pd
from sklearn.model_selection import train_test_split
from sklearn.ensemble import RandomForestRegressor
from sklearn.metrics import mean_squared_error, r2_score
import joblib
import numpy as np

# 2. Veriyi yükle
df = pd.read_csv("../data/features.csv")

# 3. Hedef ve özellik ayrımı
X = df.drop(columns=["views"])
y = df["views"]

# 4. Eğitim/test bölmesi
X_train, X_test, y_train, y_test = train_test_split(X, y, test_size=0.2, random_state=42)

# 5. Model oluştur ve eğit
model = RandomForestRegressor(n_estimators=100, random_state=42)
model.fit(X_train, y_train)

# 6. Tahmin ve metrikler
y_pred = model.predict(X_test)
rmse = np.sqrt(mean_squared_error(y_test, y_pred))
r2 = r2_score(y_test, y_pred)

print(f"📊 RMSE: {rmse:.2f}")
print(f"📈 R2 Score: {r2:.3f}")

# 7. Modeli kaydet
import os
import json
os.makedirs("../models", exist_ok=True)
joblib.dump(model, "../models/model.pkl")
print("✅ Model kaydedildi: ../models/model.pkl")

# 8. Değerlendirme skorunu JSON olarak kaydet
eval_metrics = {
    "RMSE": float(rmse),
    "R2_Score": float(r2)
}

os.makedirs("../outputs", exist_ok=True)
with open("../outputs/eval_report.json", "w") as f:
    json.dump(eval_metrics, f, indent=4)

print("📄 Değerlendirme metrikleri kaydedildi: eval_report.json")




