# 1. Gerekli kütüphaneler
import pandas as pd

# 2. Dosya yolu
DATA_PATH = "../data/raw_data.csv"

# 3. Veriyi oku
df = pd.read_csv(DATA_PATH)

# 4. İlk 5 satır
print("📌 İlk 5 Satır:")
display(df.head())

# 5. Genel bilgi
print("\n📌 Veri Seti Özeti:")
display(df.info())

# 6. Eksik veri kontrolü
print("\n📌 Eksik Değer Sayısı:")
display(df.isnull().sum())

# 7. Kategori dağılımı
print("\n📌 Kategori Dağılımları (category_id):")
display(df['category_id'].value_counts())




