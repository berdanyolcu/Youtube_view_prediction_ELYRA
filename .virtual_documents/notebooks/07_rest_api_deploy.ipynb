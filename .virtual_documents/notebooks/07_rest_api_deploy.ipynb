# 1. Flask uygulamasını başlat
from flask import Flask, request, jsonify
import pandas as pd
import joblib

app = Flask(__name__)

# 2. Modeli yükle
model = joblib.load("../models/model.pkl")

# 3. Tahmin endpoint’i
@app.route("/predict", methods=["POST"])
def predict():
    try:
        # JSON verisini al
        data = request.get_json()
        df = pd.DataFrame([data])

        # Tahmin yap
        prediction = model.predict(df)[0]

        return jsonify({
            "predicted_views": round(prediction)
        })

    except Exception as e:
        return jsonify({"error": str(e)}), 400

# 4. Ana fonksiyon
if __name__ == "__main__":
    app.run(debug=True, use_reloader=False)




